{
 "cells": [
  {
   "cell_type": "markdown",
   "id": "7ac8894d",
   "metadata": {},
   "source": [
    "## 1. Generar un array aleatorio de 100 elementos. Calcular la mediana correspondiente\n"
   ]
  },
  {
   "cell_type": "code",
   "execution_count": 1,
   "id": "25981c3b",
   "metadata": {},
   "outputs": [],
   "source": [
    "import pandas as pd"
   ]
  },
  {
   "cell_type": "markdown",
   "id": "5250515f",
   "metadata": {},
   "source": [
    "### 2. Recordar los ejercicios con funciones para cálculo de factorial y suma de serie de la Clase 02. Repetir ambos ejercicios, pero ahora utilizar las nuevas operaciones aprendidas con los ndarrays.\n"
   ]
  },
  {
   "cell_type": "markdown",
   "id": "3080091d",
   "metadata": {},
   "source": [
    "### 3. En este link se provee un archivo con los resultados de la Encuesta de Sueldos de Openqube de Febrero 2020 (https://sueldos.openqube.io/encuesta-sueldos-2020.02/ ),Calcular y comparar media y mediana de los sueldos netos."
   ]
  },
  {
   "cell_type": "code",
   "execution_count": null,
   "id": "4ea1fd9d",
   "metadata": {},
   "outputs": [],
   "source": []
  }
 ],
 "metadata": {
  "kernelspec": {
   "display_name": "Python 3 (ipykernel)",
   "language": "python",
   "name": "python3"
  },
  "language_info": {
   "codemirror_mode": {
    "name": "ipython",
    "version": 3
   },
   "file_extension": ".py",
   "mimetype": "text/x-python",
   "name": "python",
   "nbconvert_exporter": "python",
   "pygments_lexer": "ipython3",
   "version": "3.9.7"
  }
 },
 "nbformat": 4,
 "nbformat_minor": 5
}
