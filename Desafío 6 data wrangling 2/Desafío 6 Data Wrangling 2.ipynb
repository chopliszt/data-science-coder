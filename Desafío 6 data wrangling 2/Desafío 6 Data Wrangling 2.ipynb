{
 "cells": [
  {
   "cell_type": "markdown",
   "id": "186953bf",
   "metadata": {},
   "source": [
    "## Consigna: Leer los set de datos w_data.csv y p_data.csv, fusionarlos a partir de la variable que tengan en común (ID)y realizar las siguientes ejercicios:\n",
    "Aspectos a incluir en el entregable:\n",
    "El código debe estar hecho en un notebook y debe estar probado. Recordar que si bien, la actividad\n",
    "se realiza grupalmente, las entregas son individuales.\n"
   ]
  },
  {
   "cell_type": "code",
   "execution_count": 1,
   "id": "1ec89aa0",
   "metadata": {},
   "outputs": [],
   "source": [
    "import pandas as pd\n",
    "import numpy as np"
   ]
  },
  {
   "cell_type": "code",
   "execution_count": 7,
   "id": "f27cd542",
   "metadata": {},
   "outputs": [
    {
     "data": {
      "text/html": [
       "<div>\n",
       "<style scoped>\n",
       "    .dataframe tbody tr th:only-of-type {\n",
       "        vertical-align: middle;\n",
       "    }\n",
       "\n",
       "    .dataframe tbody tr th {\n",
       "        vertical-align: top;\n",
       "    }\n",
       "\n",
       "    .dataframe thead th {\n",
       "        text-align: right;\n",
       "    }\n",
       "</style>\n",
       "<table border=\"1\" class=\"dataframe\">\n",
       "  <thead>\n",
       "    <tr style=\"text-align: right;\">\n",
       "      <th></th>\n",
       "      <th>Workclass</th>\n",
       "      <th>fnlwgt</th>\n",
       "      <th>Capital Gain</th>\n",
       "      <th>Capital Loss</th>\n",
       "      <th>Hours per week</th>\n",
       "      <th>ID</th>\n",
       "      <th>Target</th>\n",
       "    </tr>\n",
       "  </thead>\n",
       "  <tbody>\n",
       "    <tr>\n",
       "      <th>0</th>\n",
       "      <td>State-gov</td>\n",
       "      <td>77516.0</td>\n",
       "      <td>2174.0</td>\n",
       "      <td>0.0</td>\n",
       "      <td>40.0</td>\n",
       "      <td>49084</td>\n",
       "      <td>&lt;=50K</td>\n",
       "    </tr>\n",
       "    <tr>\n",
       "      <th>1</th>\n",
       "      <td>Self-emp-not-inc</td>\n",
       "      <td>83311.0</td>\n",
       "      <td>0.0</td>\n",
       "      <td>0.0</td>\n",
       "      <td>13.0</td>\n",
       "      <td>68553</td>\n",
       "      <td>&lt;=50K</td>\n",
       "    </tr>\n",
       "    <tr>\n",
       "      <th>2</th>\n",
       "      <td>Private</td>\n",
       "      <td>215646.0</td>\n",
       "      <td>0.0</td>\n",
       "      <td>0.0</td>\n",
       "      <td>40.0</td>\n",
       "      <td>143654</td>\n",
       "      <td>&lt;=50K</td>\n",
       "    </tr>\n",
       "    <tr>\n",
       "      <th>3</th>\n",
       "      <td>Private</td>\n",
       "      <td>234721.0</td>\n",
       "      <td>0.0</td>\n",
       "      <td>0.0</td>\n",
       "      <td>40.0</td>\n",
       "      <td>41510</td>\n",
       "      <td>&lt;=50K</td>\n",
       "    </tr>\n",
       "    <tr>\n",
       "      <th>4</th>\n",
       "      <td>Private</td>\n",
       "      <td>338409.0</td>\n",
       "      <td>0.0</td>\n",
       "      <td>0.0</td>\n",
       "      <td>40.0</td>\n",
       "      <td>195025</td>\n",
       "      <td>&lt;=50K</td>\n",
       "    </tr>\n",
       "  </tbody>\n",
       "</table>\n",
       "</div>"
      ],
      "text/plain": [
       "           Workclass    fnlwgt  Capital Gain  Capital Loss  Hours per week  \\\n",
       "0          State-gov   77516.0        2174.0           0.0            40.0   \n",
       "1   Self-emp-not-inc   83311.0           0.0           0.0            13.0   \n",
       "2            Private  215646.0           0.0           0.0            40.0   \n",
       "3            Private  234721.0           0.0           0.0            40.0   \n",
       "4            Private  338409.0           0.0           0.0            40.0   \n",
       "\n",
       "       ID  Target  \n",
       "0   49084   <=50K  \n",
       "1   68553   <=50K  \n",
       "2  143654   <=50K  \n",
       "3   41510   <=50K  \n",
       "4  195025   <=50K  "
      ]
     },
     "execution_count": 7,
     "metadata": {},
     "output_type": "execute_result"
    }
   ],
   "source": [
    "w_data=pd.read_csv(\"w_data.csv\",sep=\";\")\n",
    "w_data.head()"
   ]
  },
  {
   "cell_type": "markdown",
   "id": "2e62f237",
   "metadata": {},
   "source": [
    "### 1Cuantos ID tienen en común. Nombrar cuales no tienen en común"
   ]
  },
  {
   "cell_type": "code",
   "execution_count": null,
   "id": "4fb1cd89",
   "metadata": {},
   "outputs": [],
   "source": []
  },
  {
   "cell_type": "markdown",
   "id": "45aa170e",
   "metadata": {},
   "source": [
    "### 2Corregir los target a solo dos valores distintos ‘<=50k’ y ‘>50k’"
   ]
  },
  {
   "cell_type": "code",
   "execution_count": null,
   "id": "9c8215a8",
   "metadata": {},
   "outputs": [],
   "source": []
  },
  {
   "cell_type": "markdown",
   "id": "b85df711",
   "metadata": {},
   "source": [
    "### 3 Calcular la proporción que hay entre personas con salarios >50k respecto del total para Entre personas de distinto sexo, Raza y Educacion. Por ejemplo cuál es el porcentaje de mujeres con un salario mayor a 50K y compararlo con el de los hombres. Lo mismo para personas de distintas razas y Educación"
   ]
  },
  {
   "cell_type": "code",
   "execution_count": null,
   "id": "9cffda30",
   "metadata": {},
   "outputs": [],
   "source": []
  }
 ],
 "metadata": {
  "kernelspec": {
   "display_name": "Python 3 (ipykernel)",
   "language": "python",
   "name": "python3"
  },
  "language_info": {
   "codemirror_mode": {
    "name": "ipython",
    "version": 3
   },
   "file_extension": ".py",
   "mimetype": "text/x-python",
   "name": "python",
   "nbconvert_exporter": "python",
   "pygments_lexer": "ipython3",
   "version": "3.9.7"
  }
 },
 "nbformat": 4,
 "nbformat_minor": 5
}
