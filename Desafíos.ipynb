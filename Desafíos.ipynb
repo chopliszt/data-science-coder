{
 "cells": [
  {
   "cell_type": "markdown",
   "id": "2aeca9dc",
   "metadata": {},
   "source": [
    "# Desafío 1"
   ]
  },
  {
   "cell_type": "markdown",
   "id": "1efb3c62",
   "metadata": {},
   "source": [
    "#### Función que retorna el factorial"
   ]
  },
  {
   "cell_type": "code",
   "execution_count": 1,
   "id": "41e398d2",
   "metadata": {},
   "outputs": [],
   "source": [
    "import numpy as np\n",
    "def mi_factorial(numero):    \n",
    "    return np.arange(1,numero+1).prod()\n",
    "\n",
    "    "
   ]
  },
  {
   "cell_type": "code",
   "execution_count": 2,
   "id": "9afea576",
   "metadata": {},
   "outputs": [
    {
     "name": "stdout",
     "output_type": "stream",
     "text": [
      "120\n"
     ]
    }
   ],
   "source": [
    "print(mi_factorial(5))"
   ]
  },
  {
   "cell_type": "markdown",
   "id": "32dd16aa",
   "metadata": {},
   "source": [
    "#### Escribir una función para calcular la suma de una serie comenzando por un número cualquiera  y terminando en otro número que debe ser mayor al primero"
   ]
  },
  {
   "cell_type": "code",
   "execution_count": 3,
   "id": "dc2a58c8",
   "metadata": {},
   "outputs": [
    {
     "name": "stdout",
     "output_type": "stream",
     "text": [
      "la suma es 15\n"
     ]
    }
   ],
   "source": [
    "import numpy as np\n",
    "def mi_funcion_2(numero):\n",
    "    return np.arange(1,numero+1).sum()\n",
    "print(f\"la suma es {mi_funcion_2(5)}\")"
   ]
  },
  {
   "cell_type": "markdown",
   "id": "ca4bbb88",
   "metadata": {},
   "source": [
    "# Desafío N 2\n"
   ]
  },
  {
   "cell_type": "code",
   "execution_count": null,
   "id": "4c196a4f",
   "metadata": {},
   "outputs": [],
   "source": []
  }
 ],
 "metadata": {
  "kernelspec": {
   "display_name": "Python 3 (ipykernel)",
   "language": "python",
   "name": "python3"
  },
  "language_info": {
   "codemirror_mode": {
    "name": "ipython",
    "version": 3
   },
   "file_extension": ".py",
   "mimetype": "text/x-python",
   "name": "python",
   "nbconvert_exporter": "python",
   "pygments_lexer": "ipython3",
   "version": "3.9.7"
  }
 },
 "nbformat": 4,
 "nbformat_minor": 5
}
