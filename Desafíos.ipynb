{
 "cells": [
  {
   "cell_type": "markdown",
   "id": "6826ea70",
   "metadata": {},
   "source": [
    "# Desafío 1"
   ]
  },
  {
   "cell_type": "markdown",
   "id": "696fe8d7",
   "metadata": {},
   "source": [
    "### Función que retorna el factorial"
   ]
  },
  {
   "cell_type": "code",
   "execution_count": 38,
   "id": "41e398d2",
   "metadata": {},
   "outputs": [],
   "source": [
    "import numpy as np\n",
    "def mi_factorial(numero):\n",
    "    x=np.arange(1,2).prod\n",
    "    #x=[1:5].prod\n",
    "    return np.arange(1,numero+1).prod()\n",
    "\n",
    "    "
   ]
  },
  {
   "cell_type": "code",
   "execution_count": 39,
   "id": "9afea576",
   "metadata": {},
   "outputs": [
    {
     "name": "stdout",
     "output_type": "stream",
     "text": [
      "120\n"
     ]
    }
   ],
   "source": [
    "print(mi_factorial(5))"
   ]
  },
  {
   "cell_type": "markdown",
   "id": "086ba617",
   "metadata": {},
   "source": [
    "#### Función 2, que hace..."
   ]
  },
  {
   "cell_type": "code",
   "execution_count": null,
   "id": "dc2a58c8",
   "metadata": {},
   "outputs": [],
   "source": []
  },
  {
   "cell_type": "markdown",
   "id": "ad68f246",
   "metadata": {},
   "source": [
    "# Desafío N 2"
   ]
  }
 ],
 "metadata": {
  "kernelspec": {
   "display_name": "Python 3 (ipykernel)",
   "language": "python",
   "name": "python3"
  },
  "language_info": {
   "codemirror_mode": {
    "name": "ipython",
    "version": 3
   },
   "file_extension": ".py",
   "mimetype": "text/x-python",
   "name": "python",
   "nbconvert_exporter": "python",
   "pygments_lexer": "ipython3",
   "version": "3.9.7"
  }
 },
 "nbformat": 4,
 "nbformat_minor": 5
}
